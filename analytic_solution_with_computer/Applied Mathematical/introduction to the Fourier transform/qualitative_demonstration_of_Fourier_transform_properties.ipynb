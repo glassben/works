{
 "cells": [
  {
   "cell_type": "markdown",
   "metadata": {},
   "source": [
    "# Mini-stage d'analyse pour l'ingénieur\n",
    "\n",
    "**Waïss Azizian, Brigitte Bidegaray-Fesquet, Eloi Martinet, Valérie Perrier et Ny Tsiky Rakotomalala**\n",
    "\n",
    "Tous les documents pour ce TP sont disponibles dans le dossier [TP Jupyter LaTeX](https://chamilo.grenoble-inp.fr/main/document/document.php?cidReq=ENSIMAG3MMAI&id_session=0&gidReq=0&gradebook=0&origin=&id=775120) sur Chamilo.\n",
    "\n",
    "### Le but de ce mini-stage est\n",
    "\n",
    "* de faire connaissance avec certaines librairies **python** pour le calcul scientifique ;\n",
    "* de faire connaissance avec l'écriture de formules en **LaTeX**, outil de traitement de texte utilisé notamment en mathématiques ;\n",
    "* de s'exercer au **compte-rendu de TP** sur des exercices en lien avec le cours d'analyse pour l'ingénieur;\n",
    "* de rédiger ce TP dans un *notebook* permettant de présenter conjointement les calculs et la démarche suivie, et permettant la reproductibilité de vos résultats.\n",
    "\n",
    "La partie 1 de ce sujet vous propose une introduction rapide au *notebook*. Prenez le temps de parcourir l'aide.\n",
    "    \n",
    "La partie 2 présente quelques librairies python pour les mathématiques avec une application aux sinusoïdes. Prenez le temps de répondre aux questions sur la représentation des vecteurs et des matrices. \n",
    "    \n",
    "La partie 3 introduit les séries de Fourier et vous permettra dans l'écriture des réponses de vous familiariser avec l'écriture des équations en LaTeX. Des exemples vous sont donnés en éditant les zones <i>markdown</i> de ce sujet. C'est le cœur du sujet avec les propriétés des séries de Fourier et leur illustration numérique sur un exemple.\n",
    "    \n",
    "Enfin la dernière partie est plus libre et vous donne quelques pistes d'exploration autour du sujet.\n",
    "\n",
    "La notation prendra en compte la qualité de la programmation du point de vue de l'utilisation du langage python et de l'algorithmique, et de la qualité de la rédaction, tant en ce qui concerne la présentation en LaTeX que le contenu scientifique.\n",
    "\n",
    "### Consignes pour le rendu \n",
    "\n",
    "* Travailler en binôme et déclarer ces binômes sur Teide. \n",
    "Les deux membres du binôme doivent être dans le même groupe de TP.\n",
    "* Modifier le présent *notebook* en rédigeant les réponses dans les cellules prédéfinies.\n",
    "* Renommer ce *notebook* &lt;NomBinome1-NomBinome2&gt;.ipynb et le déposer sur Teide.\n",
    "* Le *notebook* doit s'exécuter parfaitement et présenter l'analyse des résultats obtenus (et non leur paraphrase puisque les résultats sont déjà visibles dans le *notebook*) et des commentaires éventuels permettant la compréhension des choix algorithmiques effectués ou des difficultés rencontrées. \n",
    "Le compte-rendu doit néanmoins rester relativement concis.\n",
    "* Relisez-vous, soignez la présentation des figures et des formules mathématiques.\n",
    "\n",
    "<h3 align=center><font color=\"red\">Date limite de rendu : 18 novembre 2022 à 23h59</font></h3>\n",
    "\n",
    "Bon courage à tous, et <u>n'hésitez pas à faire appel aux encadrants</u> aussi souvent que nécessaire !"
   ]
  },
  {
   "cell_type": "markdown",
   "metadata": {},
   "source": [
    "## 1. Travailler dans un *notebook*\n",
    "\n",
    "L'utilisation d'un *notebook* permet de réunir en un même lieu, la description du problème à résoudre et des méthodes utilisées, le code correspondant, les sorties du code et en particulier ici des graphiques, et l'analyse des résultats obtenus. C'est un des outils pour permettre la reproductibilité de résultats. \n",
    "\n",
    "### 1.1. Types de cellules\n",
    "\n",
    "Il est constitué d'une succession de cellules notamment\n",
    "* **des cellules de texte** (`Markdown`) dont le formattage est un mélange de *markdown*, d'HTML et de LaTeX. Il suffit de double-cliquer sur une telle cellule pour voir comment elle est rédigée. `Maj`-`Entrée` permet d'interpréter le contenu de la cellule.\n",
    "* **des cellules de code**, dans lesquelles on rédige le code. Leur exécution peut afficher des résultats ou des courbes.\n",
    "\n",
    "### 1.2.  Formattage du texte\n",
    "\n",
    "N'hésitez pas à imiter ! Par exemple, dans cette cellule, vous pouvez voir comment coder en *markdown* \n",
    "* un titre (de niveau 2 et 3),\n",
    "* du texte en *italique*,\n",
    "* du texte en **gras**,\n",
    "* des commandes,\n",
    "* une liste.\n",
    "\n",
    "Dans la cellule au dessus, le changement de couleur de texte résulte de l'utilisation de commandes HTML (`<font color=red>...</font>`).\n",
    "\n",
    "LaTeX (prononcer latek...) est utilisé pour écrire les formules mathématiques, mais ce langage dépasse de loin cet usage. Il sert pour écrire des documents complets où tout le contenu et le formattage sont codés dans ce langage. Vous trouverez plus d'informations sur Chamilo. Vous trouverez également plus loin des exemples d'utilisation, dans la présentation des séries de Fourier. \n",
    "\n",
    "Pour un joli rendu, toutes les formules, même constituées d'un symbole unique, doivent être en LaTeX.\n",
    "Les formules *en ligne* doivent être encadrées par des dollars (`$formule$`). Il y a plusieurs façons de disposer des formules sur une ligne à part, ici nous utilisons `\\begin{equation}une ligne de formules\\end{equation}` pour une seule ligne et `\\begin{align}plusieurs lignes de formules\\end{align}` pour aligner avec `&` plusieurs lignes séparées par `\\\\`.\n",
    "\n",
    "\n",
    "### 1.3. L'aide\n",
    "\n",
    "Dans l'onglet `Help`, vous y trouverez notamment de l'aide sur\n",
    "* le fonctionnement d'un *notebook*,\n",
    "* le langage *markdown*,\n",
    "* quelques librairies python.\n",
    "\n",
    "Vous pouvez également accéder à la documentation de python en tapant `help()`.\n",
    "Laissez-vous guider. Essayez les recherches suivantes.\n",
    "* `print`\n",
    "* `symbols`\n",
    "\n",
    "N'oubliez pas de faire `quit` à la fin..."
   ]
  },
  {
   "cell_type": "code",
   "execution_count": 2,
   "metadata": {},
   "outputs": [
    {
     "name": "stdout",
     "output_type": "stream",
     "text": [
      "\n",
      "Welcome to Python 3.10's help utility!\n",
      "\n",
      "If this is your first time using Python, you should definitely check out\n",
      "the tutorial on the internet at https://docs.python.org/3.10/tutorial/.\n",
      "\n",
      "Enter the name of any module, keyword, or topic to get help on writing\n",
      "Python programs and using Python modules.  To quit this help utility and\n",
      "return to the interpreter, just type \"quit\".\n",
      "\n",
      "To get a list of available modules, keywords, symbols, or topics, type\n",
      "\"modules\", \"keywords\", \"symbols\", or \"topics\".  Each module also comes\n",
      "with a one-line summary of what it does; to list the modules whose name\n",
      "or summary contain a given string such as \"spam\", type \"modules spam\".\n",
      "\n"
     ]
    }
   ],
   "source": [
    "help()"
   ]
  },
  {
   "cell_type": "markdown",
   "metadata": {},
   "source": [
    "Vous pouvez aussi directement demander l'aide d'une fonction particulière."
   ]
  },
  {
   "cell_type": "code",
   "execution_count": null,
   "metadata": {},
   "outputs": [],
   "source": [
    "help(print)"
   ]
  },
  {
   "cell_type": "markdown",
   "metadata": {},
   "source": [
    "## 2. Signaux sinusoïdaux purs &mdash; premiers pas en python\n",
    "\n",
    "L'analyse de Fourier est basée sur la représentation à l'aide de signaux sinusoïdaux purs. Un signal pur de fréquence $\\lambda$ s'écrit\n",
    "\\begin{equation}\n",
    "t \\mapsto \\sin(2\\pi\\lambda t).\n",
    "\\end{equation}\n",
    "En guise d'échauffement en python, nous allons voir comment les calculer numériquement et les représenter graphiquement. \n",
    "\n",
    "### 2.1. Librairies python utiles\n",
    "\n",
    "Pour le présent TP, nous aurons besoin d'un certain nombre de librairies pour les mathématiques.\n",
    "* la commande `%matplotlib inline` permet d'effectuer les graphismes en ligne dans le *notebook*,\n",
    "* `matplotlib.pyplot` contient les fonctions pour tracer les courbes,\n",
    "* `numpy` contient les fonctions pour le travail sur les tableaux et les matrices,\n",
    "* `math` contient les fonctions mathématiques usuelles.\n",
    "\n",
    "Dans ce TP, on utilisera systématiquement des objets `numpy` pour représenter les vecteurs et les matrices (et non des listes).\n",
    "À noter que les fonctions de base ont aussi des versions dans la librairie `numpy` qui s'appliquent aux objets (vecteurs, matrices) terme-à-terme. Pour savoir exactement ce que l'on utilise, on a intérêt à expliciter les librairies et à ne pas tout importer avec `*`.\n",
    "\n",
    "Commençons par importer les librairies nécessaires. \n",
    "À noter que ce qui est déjà importé dans un *notebook* n'est pas à ré-importer lors d'utilisations ultérieures. "
   ]
  },
  {
   "cell_type": "code",
   "execution_count": 1,
   "metadata": {},
   "outputs": [],
   "source": [
    "%matplotlib inline\n",
    "from math import cos, pi, sin\n",
    "\n",
    "import matplotlib.pyplot as plt\n",
    "import numpy as np"
   ]
  },
  {
   "cell_type": "markdown",
   "metadata": {},
   "source": [
    "Pour une implémentation numérique des fonctions, nous allons bien sûr devoir nous limiter à leur discrétisation, c'est-à-dire ici à leur représentation par leurs valeurs sur un ensemble discret et fini de points. Ces points ainsi que les valeurs de fonctions en ces points seront donc représentés par des vecteurs.\n",
    "\n",
    "### 2.2. Vecteurs et matrices\n",
    "\n",
    "La façon la plus simple de définir une matrice $n \\times m$ en python est d'entrer au clavier la liste de ses éléments, par exemple\n",
    "\n",
    "```\n",
    "A = np.array([[a11, a12, a13], [a21, a22, a23]])\n",
    "```\n",
    "\n",
    "**Opérations élémentaires**\n",
    "\n",
    "* `A[k, :]` une ligne de la matrice $A$       \n",
    "* `A + B` somme\n",
    "* `np.matmul(A, B)` ou `A@B` produit matriciel\n",
    "* `A * B` produit terme à terme\n",
    "* `np.linalg.det(A)` déterminant de $A$\n",
    "* `np.transpose(A)` transposée de $A$\n",
    "* `np.linalg.inv(A)` inverse de $A$\n",
    "\n",
    "En python, la numérotation commence à 0."
   ]
  },
  {
   "cell_type": "markdown",
   "metadata": {},
   "source": [
    "#### <font color=blue>Questions : Testez les opérations sur les matrices</font>\n",
    "\n",
    "Définir la matrice\n",
    "\\begin{equation}\n",
    "    M = \\begin{pmatrix}\n",
    "      1 & 0 & 3 & 1 \\\\\n",
    "      1 & 2 & 0 & 1 \\\\\n",
    "      0 & 1 & 3 & 0\n",
    "    \\end{pmatrix}.\n",
    "\\end{equation}\n",
    "1. Quelle est la commande donnant les dimensions de la matrice $M$ ?"
   ]
  },
  {
   "cell_type": "code",
   "execution_count": null,
   "metadata": {},
   "outputs": [],
   "source": [
    "M = np.array([[1, 0, 3, 1], [1, 2, 0, 1], [0, 1, 3, 0]])\n",
    "print(\"dimensions de la matrice : \", M.shape)\n",
    "\n",
    "# La commande à utiliser est 'shape', qui retourne un tuple au format (nombre_de_lignes, nombre_de_colonnes)"
   ]
  },
  {
   "cell_type": "markdown",
   "metadata": {},
   "source": [
    "2. Extraire la première ligne, la dernière colonne et l'élément à la deuxième ligne, troisième colonne de $M$."
   ]
  },
  {
   "cell_type": "code",
   "execution_count": null,
   "metadata": {},
   "outputs": [],
   "source": [
    "#Extraire la première ligne\n",
    "print(\"première ligne : \", M[0])\n",
    "\n",
    "#Extraire la dernière colonne\n",
    "derniere_colonne = []\n",
    "for i in range(M.shape[0]):\n",
    "    derniere_colonne.append(M[i][M.shape[1] - 1])\n",
    "print(\"dernière colonne : \", derniere_colonne)\n",
    "\n",
    "#Element à la deuxième ligne, troisième colonne de M\n",
    "print(\"élément à la deuxième ligne, troisième colonne : \", M[1][2])"
   ]
  },
  {
   "cell_type": "markdown",
   "metadata": {},
   "source": [
    "3. À l'aide de fonctions de la librairie numpy, extraire la diagonale, les parties triangulaires supérieures et inférieures de $M$."
   ]
  },
  {
   "cell_type": "code",
   "execution_count": null,
   "metadata": {},
   "outputs": [],
   "source": [
    "diag = np.diag(M)\n",
    "print(\"diagonale : \", diag)\n",
    "print()\n",
    "\n",
    "triangle_sup = np.triu(M, 0)\n",
    "print('triangle supérieur :\\n', triangle_sup)\n",
    "print()\n",
    "\n",
    "triangle_inf = np.tril(M,0)\n",
    "print('triangle inférieur :\\n', triangle_inf)"
   ]
  },
  {
   "cell_type": "markdown",
   "metadata": {},
   "source": [
    "4. En utilisant les fonctions `np.ones` et `np.diag`, définir la matrice identité $10\\times 10$.\n"
   ]
  },
  {
   "cell_type": "code",
   "execution_count": null,
   "metadata": {},
   "outputs": [],
   "source": [
    "identity_matrix = np.diag(np.ones(10))\n",
    "print(identity_matrix)"
   ]
  },
  {
   "cell_type": "code",
   "execution_count": null,
   "metadata": {},
   "outputs": [
    {
     "name": "stdout",
     "output_type": "stream",
     "text": [
      "[[ 2. -1.  0.  0.  0.  0.  0.  0.  0.  0.]\n",
      " [ 1.  2. -1.  0.  0.  0.  0.  0.  0.  0.]\n",
      " [ 0.  1.  2. -1.  0.  0.  0.  0.  0.  0.]\n",
      " [ 0.  0.  1.  2. -1.  0.  0.  0.  0.  0.]\n",
      " [ 0.  0.  0.  1.  2. -1.  0.  0.  0.  0.]\n",
      " [ 0.  0.  0.  0.  1.  2. -1.  0.  0.  0.]\n",
      " [ 0.  0.  0.  0.  0.  1.  2. -1.  0.  0.]\n",
      " [ 0.  0.  0.  0.  0.  0.  1.  2. -1.  0.]\n",
      " [ 0.  0.  0.  0.  0.  0.  0.  1.  2. -1.]\n",
      " [ 0.  0.  0.  0.  0.  0.  0.  0.  1.  2.]]\n"
     ]
    }
   ],
   "source": [
    "identity_matrix = np.diag(np.ones(10))\n",
    "tridiagonal_matrix = 2*identity_matrix\n",
    "tridiagonal_matrix += np.diag(np.ones(9), 1)*(-1)\n",
    "tridiagonal_matrix += np.diag(np.ones(9), -1)\n",
    "print(tridiagonal_matrix)"
   ]
  },
  {
   "cell_type": "markdown",
   "metadata": {},
   "source": [
    "### 2.3. Définir et tracer des fonctions\n",
    "#### 2.3.1. Définition de fonctions\n",
    "\n",
    "Considérons par exemple la fonction \n",
    "\\begin{equation}\n",
    "f(x) = \\sin(2\\pi x)+\\cos(\\pi x).\n",
    "\\end{equation}\n",
    "Nous pouvons la définir ainsi en python\n",
    "```\n",
    "def f(x):\n",
    "     return sin(2 * pi * x) + cos(pi * x)\n",
    "```\n",
    "\n",
    "#### 2.3.2. Fonctions échantillonnées (= discrétisées)\n",
    "\n",
    "Pour le calcul numérique, une fonction peut être définie uniquement en des points de discrétisation de la variable $x$. Par exemple\n",
    "\n",
    "```\n",
    "x = np.linspace(0, 1, 11)\n",
    "```\n",
    "correspond à une discrétisation par pas de $0.1=1/(11-1)$, de l'intervalle $[0,1]$, soit 11 valeurs. On définit alors la fonction sur cette grille discrète. Avec l'exemple précédent, il vaut mieux redéfinir\n",
    "```\n",
    "def f(x):\n",
    "     return np.sin(2 * pi * x) + np.cos(pi * x)\n",
    "```\n",
    "et alors il suffit d'écrire\n",
    "```\n",
    "y = f(x)\n",
    "```\n",
    "pour calculer toutes les valeurs de la fonction $f$.\n",
    "\n",
    "#### 2.3.3. Tracé de courbes\n",
    "\n",
    "Pour tracer une courbe $y=x^2$ sur l'intervalle $[a,b]$ :\n",
    "```\n",
    "x = np.linspace(a, b, n) # x est échantillonné entre a et b avec un pas de (b-a)/(n-1)\n",
    "z = x**2\n",
    "plt.plot(x, z)\n",
    "```\n",
    "\n",
    "##### Pour varier le trait ou la couleur\n",
    "\n",
    "Par exemple, pour tracer en rouge :\n",
    "```\n",
    "plt.plot(x, z, 'r-')\n",
    "```\n",
    "Dans la chaîne de caractères (troisième argument), on donne une lettre imposant la couleur (`r` pour *red*, `b` pour *blue*, `g` pour *green*...) et un symbole pour le trait (`-` pour un trait continu (par défaut), `--` pour des tirets, `:` pour des pointillés...). Pour plus de détails, voir la documentation de `matplotlib.lines.Line2D`.\n",
    "\n",
    "##### Pour tracer plusieurs courbes, rajouter un titre, des axes, une légende\n",
    "\n",
    "```\n",
    "x = np.linspace(0, 10, 101)\n",
    "plt.plot(x, np.cos(x), 'r', label='cosinus')\n",
    "plt.plot(x, np.sin(x), 'b', label='sinus')\n",
    "plt.title('Graphe des fonctions cos et sin')   # titre\n",
    "plt.xlabel('temps')\n",
    "plt.ylabel('f(t)');                            # noms des axes\n",
    "plt.legend()                                   # légende qui utilise les labels\n",
    "```\n",
    "\n",
    "##### Pour tracer plusieurs graphes dans une fenêtre\n",
    "La commande `plt.subplot(n, m, p)`, placée avant un tracé de courbe, subdivise la fenêtre du graphe en une matrice $n\\times m$ de sous-fenêtres et sélectionne la $p$-ième pour dessiner le graphe courant&nbsp;: l'élément $(i, j)$ de la matrice correspond au graphe numéro $(i-1)n + j$.\n",
    "\n",
    "##### Pour exporter une figure\n",
    "La commande `plt.savefig('<fichier', format='pdf')`permet de sauver la figure courante au format pdf. D'autres formats sont possibles."
   ]
  },
  {
   "cell_type": "markdown",
   "metadata": {},
   "source": [
    "#### <font color = blue>Question : Testez le tracé de fonctions</font>\n",
    "\n",
    "Tracer avec deux couleurs différentes les courbes de la fonction sinus sur l'intervalle $[0,2\\pi]$ pour 6 points de discrétisation et 21 points de discrétisation. \n",
    "Ajouter un titre et une légende."
   ]
  },
  {
   "cell_type": "code",
   "execution_count": null,
   "metadata": {},
   "outputs": [
    {
     "data": {
      "image/png": "[encoded data removed]",
      "text/plain": [
       "<Figure size 432x288 with 1 Axes>"
      ]
     },
     "metadata": {
      "needs_background": "light"
     },
     "output_type": "display_data"
    }
   ],
   "source": [
    "def f(x:float)->float:\n",
    "    \"\"\"Fonction sin(x)\"\"\"\n",
    "    return np.sin(x)\n",
    "\n",
    "\n",
    "# Ensemble des abcisses pour le calcul de sin(x) avec 6 points de discrétisation\n",
    "x1 = np.linspace(0, 2*pi, 6)\n",
    "# Ensemble des abcisses pour le calcul de sin(x) avec 21 points de discrétisation\n",
    "x2 = np.linspace(0, 2*pi, 21)\n",
    "# Ensemble des valeurs de sin(x) avec les 6 points de discrétisation définis précédemment\n",
    "y1 = f(x1)\n",
    "# Ensemble des valeurs de sin(x) avec les 21 points de discrétisation définis précédemment\n",
    "y2 = f(x2)\n",
    "\n",
    "# Génération du graph\n",
    "plt.plot(x1, y1, 'r', label=\"sin(x) w/ 6pts de discrétisation\")\n",
    "plt.plot(x2, y2, \"--b\", label=\"sin(x) w/ 21pts de discrétisation\")\n",
    "plt.xlabel(\"x\")\n",
    "plt.ylabel(\"sin(x)\")\n",
    "plt.axis([-1, 2*pi+2, -1.1, 1.1])\n",
    "plt.legend()\n",
    "plt.title(\"Courbes de la fonction sinus sur [0, 2π]\")\n",
    "# plt.savefig(\"courbes_sinus_VS_echantillonnage.pdf\", format='pdf')\n",
    "plt.show()"
   ]
  },
  {
   "cell_type": "markdown",
   "metadata": {},
   "source": [
    "\\begin{figure}[t]\n",
    "\\centering\n",
    "\\includegraphics [width = .5 \\textwidth] {courbes_sinus_VS_echantillonnage.pdf}\n",
    "\\caption {\\label{fig:} courbes_sinus_VS_echantillonnage}\n",
    "\\end{figure}"
   ]
  },
  {
   "cell_type": "markdown",
   "metadata": {},
   "source": [
    "## 3. Les séries de Fourier\n",
    "\n",
    "Pour en savoir plus : <br>\n",
    "[Ber14] Maïtine Bergounioux, [*Mathématiques pour le traitement du signal*](https://beluga.univ-grenoble-alpes.fr/permalink/33UGRENOBLE_INST/rgi2mt/alma991003269059706161), 2e édition, Dunod (2014).\n",
    "<br>\n",
    "[Sch01] Michelle Schatzman, [*Analyse numérique : une approche mathématique*](https://beluga.univ-grenoble-alpes.fr/permalink/33UGRENOBLE_INST/1vb34gl/alma991005329019706161), chapitre \"Du côté de chez Fourier\", Dunod (2001).\n",
    "\n",
    "### 3.1. Notations\n",
    "\n",
    "#### Polynômes trigonométriques\n",
    "\n",
    "On appelle $\\mathbb{T}_N$ l'espace vectoriel des polynômes trigonométriques de degré au plus $N$ qui s'écrivent sous la forme \n",
    "\\begin{equation}\n",
    "\\sum_{n=-N}^N c_n \\exp\\left(2i\\pi n\\dfrac tT\\right),\n",
    "\\end{equation}\n",
    "où pour $n\\in\\{-N,\\dots,N\\}$, $c_n$ est un nombre complexe. Ces polynômes trigonométriques sont clairement des fonctions périodiques de période $T$.\n",
    "\n",
    "#### Espaces fonctionnels\n",
    "\n",
    "On note $\\mathcal{C}_{\\rm per}^k$ l'espace des fonctions $k$ fois continûment différentiables, périodiques de période $T$. Un cas particulier est $\\mathcal{C}_{\\rm per}^0$, espace des fonctions continues, périodiques de période $T$.\n",
    "\n",
    "On note $\\mathcal{L}_{\\rm per}^1$ l'ensemble des fonctions Lebesgue-intégrables sur tout intervalle borné de $\\mathbb{R}$, périodiques de période $T$. On le munit de la norme\n",
    "\\begin{equation}\n",
    "\\|f\\|_1 = \\int_0^{T} |f(t)| dt.\n",
    "\\end{equation}\n",
    "\n",
    "On note $\\mathcal{L}_{\\rm per}^2$ l'ensemble des fonctions de carré Lebesgue-intégrables sur tout intervalle borné de $\\mathbb{R}$, périodiques de période $T$. On le munit de la norme\n",
    "\\begin{equation}\n",
    "\\|f\\|_2 = \\left(\\int_0^{T} |f(t)|^2 dt\\right)^{1/2}.\n",
    "\\end{equation}\n",
    "\n",
    "### 3.2. Coefficients de Fourier complexes\n",
    "\n",
    "Étant donné $f\\in\\mathcal{L}_{\\rm per}^1$, on définit le $n$-ième coefficient de Fourier par \n",
    "\\begin{equation}\n",
    "c_n(f) = \\frac 1T \\int_0^T f(t) \\exp\\left(-2i\\pi n\\dfrac tT\\right) dt.\n",
    "\\end{equation}\n",
    "On peut alors construire le polynôme trigonométrique\n",
    "\\begin{equation}\n",
    "S_N(t) = \\sum_{n=-N}^N c_n(f) \\exp\\left(2i\\pi n\\dfrac tT\\right).\n",
    "\\end{equation}\n",
    "\n",
    "Si de plus $f\\in\\mathcal{L}_{\\rm per}^2$, on peut montrer que $S_N$ réalise l'approximation au sens des moindres carrés de $f$ dans $\\mathbb{T}_N$, c'est-à-dire que\n",
    "\\begin{equation}\n",
    "\\forall P\\in\\mathbb{T}_N,\\ \\int_0^T |f-S_N|^2 dt \\leq \\int_0^T |f-P|^2 dt.\n",
    "\\end{equation}"
   ]
  },
  {
   "cell_type": "markdown",
   "metadata": {},
   "source": [
    "**<font color=blue>Question :</font>** \n",
    "Rappeler la formule de quadrature des rectangles à gauche permettant d'approcher l'intégrale $c_n(f)$ avec $J$ points de discrétisation régulièrement espacés. (Cela revient à généraliser à une intégrale sur $[0,T]$ la formule vue sur la première feuille de TD.) On utilisera ces points de discrétisation régulièrement espacés en temps dans la suite."
   ]
  },
  {
   "cell_type": "markdown",
   "metadata": {},
   "source": [
    "\n",
    "$$c_n(f)=\\frac{1}{J} \\cdot \\sum_{u=0}^{J-1} \\left( f(T \\cdot \\frac{u}{J}) \\cdot e^{-2i\\pi n \\frac{u}{J}} \\right) $$"
   ]
  },
  {
   "cell_type": "markdown",
   "metadata": {},
   "source": [
    "**<font color=blue>Question :</font>** \n",
    "Définir une fonction `discreteFourier` qui prend en entrée \n",
    "* un vecteur `numpy` des valeurs d'une fonction $f$ discrétisée avec $J$ points sur $[0,T]$ \n",
    "* et le degré $N$ du polynôme trigonométrique,\n",
    "\n",
    "et retourne les coefficients de Fourier $c_n(f)$. "
   ]
  },
  {
   "cell_type": "code",
   "execution_count": null,
   "metadata": {},
   "outputs": [],
   "source": [
    "def discreteFourier(fj:list, N:int)->list:\n",
    "    \"\"\" Retourne les coefficients de Fourier cn(f) à partir des valeurs d'une fonction f discrétisée avec J points sur [0,T]\"\"\"\n",
    "    J = len(fj)\n",
    "    coefficients_de_fourier = []\n",
    "    for n in range(-N, N+1):\n",
    "        coeff = 0\n",
    "        for u in range(J):\n",
    "            coeff += fj[u] * (cos(-2*pi*n*u/J) + 1j*sin(-2*pi*n*u/J))\n",
    "        coefficients_de_fourier.append(1/J * coeff)\n",
    "    return coefficients_de_fourier\n"
   ]
  },
  {
   "cell_type": "markdown",
   "metadata": {},
   "source": [
    "**<font color = blue>Question :</font>** \n",
    "Définir une fonction `invFourier` qui prend en entrée \n",
    "* un vecteur `numpy` des coefficients de Fourier $c_n$ \n",
    "* et le nombre $J$ de points de discrétisation en temps, \n",
    "\n",
    "et retourne la somme partielle $S_N$ aux temps de discrétisation."
   ]
  },
  {
   "cell_type": "code",
   "execution_count": null,
   "metadata": {},
   "outputs": [],
   "source": [
    "def invFourier(cn:list, J:int)->list:\n",
    "    \"\"\"Retourne la somme partielle Sn aux temps de discrétisation. Avec :\\n\n",
    "    cn = coefficients de fourier\\n\n",
    "    J = nombre de points pour la discrétisation\"\"\"\n",
    "    partial_sum_list = []\n",
    "    iterable_cn = [i for i in range(len(cn))]\n",
    "    for n in range(J):\n",
    "        somme = 0\n",
    "        for u in range((-len(cn) +1) // 2,(len(cn)-1) // 2 + 1):\n",
    "            somme += cn[iterable_cn] * (cos(2*pi*u*n/J) + 1j*sin(2*pi*u*n/J))\n",
    "        partial_sum_list.append(somme)\n",
    "    return partial_sum_list\n"
   ]
  },
  {
   "cell_type": "markdown",
   "metadata": {},
   "source": [
    "### 3.3. Un exemple\n",
    "\n",
    "Soient $0<a\\leq T$ et un signal créneau, c'est-à-dire la fonction périodique de période $T$ définie sur $[-T/2,T/2]$ par\n",
    "\\begin{equation}\n",
    "f(t) = \\begin{cases}\n",
    "A & \\text{sur } \\left[-dfrac a2,dfrac a2\\right]$ \\\\\n",
    "0 & \\text{ailleurs.}\n",
    "\\end{cases}\n",
    "\\end{equation}"
   ]
  },
  {
   "cell_type": "markdown",
   "metadata": {},
   "source": [
    "**<font color = blue>Question :</font>** \n",
    "Définir cette fonction comme fonction python qui dépend de $t$, $a$, $T$ et $A$.<br>\n",
    "Tracer cette fonction sur l'intervalle $[-T,T]$, pour les valeurs $T=2$, $a=0,4$, $A=1,5$.\n",
    "(On gardera ces valeurs pour les illustrations numériques qui suivront.)"
   ]
  },
  {
   "cell_type": "code",
   "execution_count": null,
   "metadata": {},
   "outputs": [
    {
     "data": {
      "image/png": "[encoded data removed]",
      "text/plain": [
       "<Figure size 432x288 with 1 Axes>"
      ]
     },
     "metadata": {
      "needs_background": "light"
     },
     "output_type": "display_data"
    }
   ],
   "source": [
    "def f(t, a, T, A)->float:\n",
    "    \"\"\"Fonction créneau telle que définie dans ce TP d'analyse\"\"\"\n",
    "    if a > T or a <= 0:\n",
    "        raise Exception\n",
    "    elif t%T > T/2 :\n",
    "        if t <0:\n",
    "            if abs(t) % T < a/2:\n",
    "                return A\n",
    "        elif abs(t-T) % T  < a/2:\n",
    "            return A\n",
    "        return 0\n",
    "    else :\n",
    "        if -a/2 < (t) % T  < a/2:\n",
    "            return A\n",
    "        return 0\n",
    "\n",
    "\n",
    "# Initialisation de la variable y en type global pour pouvoir réutiliser le résultat calculé ici dans les cellules suivantes\n",
    "global y\n",
    "\n",
    "\n",
    "def display_func(J, a, T, A):\n",
    "    \"\"\"Génère un graph de notre fonction créneau sur l'intervalle [-T, T]\"\"\"\n",
    "    global y\n",
    "    x1 = np.linspace(-2, 2, J)\n",
    "    y = []\n",
    "    for t in x1:\n",
    "        y.append(f(t, a, T, A))\n",
    "    plt.plot(x1, y, 'r')\n",
    "    plt.xlabel(\"x\")\n",
    "    plt.ylabel(\"f(x)\")\n",
    "    plt.axis([-2.2, 2.2, -0.1, 1.6])\n",
    "    # plt.savefig(\"test.pdf\", format='pdf')\n",
    "    plt.show()\n",
    "\n",
    "\n",
    "a = 0.4\n",
    "A = 1.5\n",
    "T = 2\n",
    "display_func(1000, a, T, A)"
   ]
  },
  {
   "cell_type": "markdown",
   "metadata": {},
   "source": [
    "**<font color = blue>Question :</font>** \n",
    "Calculer les coefficients de Fourier $c_n(f)$ pour la fonction créneau. "
   ]
  },
  {
   "cell_type": "markdown",
   "metadata": {},
   "source": [
    "$$C_n = \\frac{1}{T} \\cdot \\int_{-\\frac{T}{2}}^{\\frac{T}{2}} f(t) \\cdot e^{-2i\\pi n \\frac{t}{T}} dt$$\n",
    "  \n",
    "Par relation de Chasles et en utilisant les propriétés de f (f est non nulle et de valeur A uniquement sur l'intervalle [-$\\frac{-a}{2}$, $\\frac{-a}{2}$]), on otient :  \n",
    "  \n",
    "\n",
    "$$C_n = \\frac{1}{T} \\cdot \\int_{-\\frac{a}{2}}^{\\frac{a}{2}} A \\cdot e^{-2i\\pi n \\frac{t}{T}} dt$$\n",
    "\n",
    "Si n = 0 :  \n",
    "  \n",
    "$C_n = \\frac{aA}{T} $\n",
    "\n",
    "Sinon :  \n",
    "  \n",
    "$C_n = \\frac{A}{\\pi n} \\cdot sin\\left( \\frac{\\pi na}{T}\\right)$"
   ]
  },
  {
   "cell_type": "markdown",
   "metadata": {},
   "source": [
    "**<font color = blue>Question :</font>** \n",
    "Calculer ces valeurs en utilisant `discreteFourier`.\n",
    "On prendra $J=100$ points de discrétisation et on calculera les coefficients jusqu'à $N=10$.\n",
    "Que pensez-vous de l'approximation ?"
   ]
  },
  {
   "cell_type": "code",
   "execution_count": null,
   "metadata": {},
   "outputs": [
    {
     "name": "stdout",
     "output_type": "stream",
     "text": [
      "[(-1.1146639167236572e-16+4.143907439413397e-17j), (-1.3855583347321954e-16-2.80331313717852e-17j), (0.0701469230073854-0.0017633557568774733j), (-7.882583474838611e-17-5.484501741648273e-17j), (0.1513474183104909-0.0028531695488855755j), (-6.394884621840902e-17-1.5584755708175635e-17j), (0.22703606713771762-0.0028531695488855473j), (-7.105427357601002e-18-1.3961054534661344e-17j), (0.2806430919632105-0.0017633557568774686j), (2.220446049250313e-19+1.2467457621845313e-17j), (0.3+0j), (2.220446049250313e-19-1.2467457621845313e-17j), (0.2806430919632105+0.0017633557568774686j), (-7.105427357601002e-18+1.3961054534661344e-17j), (0.22703606713771762+0.0028531695488855473j), (-6.394884621840902e-17+1.5584755708175635e-17j), (0.1513474183104909+0.0028531695488855755j), (-7.882583474838611e-17+5.484501741648273e-17j), (0.0701469230073854+0.0017633557568774733j), (-1.3855583347321954e-16+2.80331313717852e-17j), (-1.1146639167236572e-16-4.143907439413397e-17j)]\n",
      "\n",
      "[-1.1694515497558127e-17, -0.03118297612628798, -0.05676200464804928, -0.06487086245491346, -0.046774464189431944, 1.1694515497558127e-17, 0.07016169628414794, 0.15136534572813143, 0.2270480185921971, 0.2806467851365917, 0.30000000000000004, 0.2806467851365917, 0.2270480185921971, 0.15136534572813143, 0.07016169628414794, 1.1694515497558127e-17, -0.046774464189431944, -0.06487086245491346, -0.05676200464804928, -0.03118297612628798, -1.1694515497558127e-17]\n"
     ]
    }
   ],
   "source": [
    "print(discreteFourier(y, 10))\n",
    "print()\n",
    "\n",
    "def coeff_fourier_2(a, A, T, N)->list:\n",
    "    \"\"\"Returns fourier coefficients\"\"\"\n",
    "    coeff_list = []\n",
    "    for n in range (-N, N+1):\n",
    "        if n == 0 :\n",
    "            res = a*A/T\n",
    "        else:\n",
    "            res = A/(pi*n)*sin(pi*n*a/T)\n",
    "        coeff_list.append(res)\n",
    "    return coeff_list\n",
    "    \n",
    "print(coeff_fourier_2(0.4, 1.5, 2, 10))"
   ]
  },
  {
   "cell_type": "markdown",
   "metadata": {},
   "source": [
    "Les valeurs fournies par l'approximation ne sont pas égales aux valeurs exactes.  \n",
    "On peut cependant noter qu'elles sont du même ordre de grandeur et s'en approchent globalement bien."
   ]
  },
  {
   "cell_type": "markdown",
   "metadata": {},
   "source": [
    "### 3.4. Coefficients réels\n",
    "\n",
    "Reprenons une fonction $f$ générique.\n",
    "En utilisant les formules d'Euler, on peut réécrire l'expression de $S_N$ sous la forme\n",
    "\\begin{equation}\n",
    "S_N(t) = a_0(f) + \\sum_{n=1}^N \\left(a_n(f) \\cos\\left(2\\pi n \\dfrac tT\\right) + b_n(f) \\sin\\left(2\\pi n \\dfrac tT\\right) \\right).\n",
    "\\end{equation} "
   ]
  },
  {
   "cell_type": "markdown",
   "metadata": {},
   "source": [
    "**<font color = blue>Question :</font>** \n",
    "Calculer les valeurs des $a_n(f)$ et des $b_n(f)$ en fonction des $c_n(f)$."
   ]
  },
  {
   "cell_type": "markdown",
   "metadata": {},
   "source": [
    "$$S_N(t) = \\sum_{n=-N}^{N} \\left( c_n(f) \\cdot e^{\\frac {2i \\pi n t} {T} }\\right)$$\n",
    "\n",
    "Par parité de cos(x) et imparité de sin(x) :  \n",
    "\n",
    "$$S_N(t) = a_0(f) + \\sum_{n=1}^{N} \\left( \\left( (C_n + C_{-n})(f) \\cdot cos(\\frac {2 \\pi nt}{T}) + i(C_n - C_{-n})(f) \\cdot sin(\\frac {2 \\pi nt}{T} )\\right)\\right)$$\n",
    "\n",
    "Par identification :  \n",
    "\n",
    "$$a_n(f) = (C_n + C_{-n})(f)$$  \n",
    "$$b_n(f) = i \\cdot (C_n - C_{-n})(f)$$\n"
   ]
  },
  {
   "cell_type": "markdown",
   "metadata": {},
   "source": [
    "On peut également l'écrire\n",
    "\\begin{equation}\n",
    "S_N(t) = A_0(f) + \\sum_{n=1}^N A_n(f) \\cos\\left(2\\pi n \\frac tT + \\varphi_n(f)\\right).\n",
    "\\end{equation} "
   ]
  },
  {
   "cell_type": "markdown",
   "metadata": {},
   "source": [
    "**<font color = blue>Question :</font>** \n",
    "Calculer les valeurs des $A_n(f)$ et des $\\varphi_n(f)$ en fonction des $a_n(f)$ et des $b_n(f)$ d'une part, puis en fonction des $c_n(f)$."
   ]
  },
  {
   "cell_type": "markdown",
   "metadata": {},
   "source": [
    "$$S_N(t) = a_0(f) + \\sum_{n=1}^{N}  \\left( a_n(f) \\cdot cos(2 \\pi n \\frac{t}{T}) + b_n(f) \\cdot sin(2 \\pi n \\frac{t}{T})\\right)$$\n",
    "\n",
    "En factorisant par $ \\sqrt{a_n(f)² + b_n(f)²}$, on a :  \n",
    "\n",
    "$$S_N(t) = a_0(f) + \\sqrt{a_n(f)² + b_n(f)²} \\cdot \\sum_{n=1}^{N}  \\left( \\frac{a_n(f)}{\\sqrt{a_n(f)² + b_n(f)²}} \\cdot cos(2 \\pi n \\frac{t}{T}) + \\frac{b_n(f)}{\\sqrt{a_n(f)² + b_n(f)²}} \\cdot sin(2 \\pi n \\frac{t}{T})\\right)$$\n",
    "\n",
    "Or $\\frac{a_n(f)}{\\sqrt{a_n(f)² + b_n(f)²}}, \\frac{b_n(f)}{\\sqrt{a_n(f)² + b_n(f)²}} \\leq 1$, d'où par bijections de $cos(x)$ et $-sin(x)$ sur [0, $\\frac{ \\pi}{2}$] ou [$\\frac{ \\pi}{2}$, $\\pi$] ou [$\\pi$, $\\frac{3 \\pi}{2}$] ou ou [$-\\frac{ \\pi}{2}$, 0], il existe un $\\phi_n(f)$ dans cet intervalle tel que :  \n",
    "\n",
    "$$S_N(t) = a_0(f) + \\sqrt{a_n(f)² + b_n(f)²} \\cdot \\sum_{n=1}^{N}  \\left( cos(\\phi_n(f)) \\cdot cos(2 \\pi n \\frac{t}{T}) - sin(\\phi_n(f)) \\cdot sin(2 \\pi n \\frac{t}{T})\\right)$$\n",
    "$$S_N(t) = a_0(f) + \\sum_{n=1}^{N} \\left( \\sqrt{a_n(f)² + b_n(f)²} \\cdot  cos(\\phi_n(f) + 2 \\pi n \\frac{t}{T}) \\right)$$\n",
    "\n",
    "On a donc :  \n",
    "  \n",
    "$A_n(f) = \\sqrt{a_n(f)² + b_n(f)²}$   \n",
    "$\\phi_n(f) = arctan(\\frac{b_n(f)}{a_n(f)}) = arg \\left( a_n(f) +i \\cdot b_n(f) \\right)$  \n",
    "  \n",
    "Puis :  \n",
    "\n",
    "$A_n(f) = 2\\sqrt{c_n \\cdot c_{-n}}$  \n",
    "$\\phi_n(f) = arctan(\\frac{i \\cdot (C_n - C_{-n})(f)}{(C_n + C_{-n})(f)}) = arg \\left( 2c_{-n} \\right)$  "
   ]
  },
  {
   "cell_type": "markdown",
   "metadata": {},
   "source": [
    "**<font color = blue>Question :</font>** \n",
    "Représenter sur deux graphes côte-à-côte, $|c_n(f)|$ en fonction de $n$ et $\\arg(c_n(f))$ en fonction de $n$ pour la fonction créneau précédemment définie. "
   ]
  },
  {
   "cell_type": "code",
   "execution_count": null,
   "metadata": {},
   "outputs": [
    {
     "data": {
      "image/png": "[encoded data removed]",
      "text/plain": [
       "<Figure size 432x288 with 1 Axes>"
      ]
     },
     "metadata": {
      "needs_background": "light"
     },
     "output_type": "display_data"
    },
    {
     "data": {
      "image/png": "[encoded data removed]",
      "text/plain": [
       "<Figure size 432x288 with 1 Axes>"
      ]
     },
     "metadata": {
      "needs_background": "light"
     },
     "output_type": "display_data"
    }
   ],
   "source": [
    "def module_cn_fonction_créneau(n):\n",
    "    \"\"\"Retourne le module de cn(f) de notre fonction créneau\"\"\"\n",
    "    if n == 0:\n",
    "        return 0.4*1.5 / 2\n",
    "    return abs(  (1.5/(pi*n))*sin(pi*n*0.4/2)   )\n",
    "\n",
    "\n",
    "def arg_cn_fonction_créneau(n):\n",
    "    \"\"\"Retourne l'argument de cn(f) de notre fonction créneau\"\"\"\n",
    "    if (1.5/pi *n)*sin(pi*n*0.4/2) < 0:\n",
    "        return pi\n",
    "    return 0\n",
    "\n",
    "\n",
    "n = 35\n",
    "N = [_ for _ in range(n)]\n",
    "mod_list = [module_cn_fonction_créneau(_) for _ in range(n)]\n",
    "plt.plot(N, mod_list, 'r', label=\"module cn(f)\")\n",
    "plt.legend()\n",
    "plt.show()\n",
    "\n",
    "arg_list = [arg_cn_fonction_créneau(_) for _ in range(n)]\n",
    "plt.plot(N, arg_list, 'b', label=\"argument cn(f)\")\n",
    "plt.legend()\n",
    "plt.show()"
   ]
  },
  {
   "cell_type": "markdown",
   "metadata": {},
   "source": [
    "### 3.4. Convergence\n",
    "\n",
    "Tout l'intérêt des séries de Fourier est qu'elles convergent en un certain sens vers la fonction de départ. \n",
    "\n",
    "#### Inégalité de Bessel\n",
    "\n",
    "Soit $f\\in\\mathcal{L}_{\\rm per}^2(0,T)$ alors \n",
    "\\begin{equation}\n",
    "\\sum_{n=-N}^N |c_n|^2 \\leq \\frac1T \\int_0^T |f(t)|^2 dt.\n",
    "\\end{equation}\n",
    "\n",
    "#### Convergence des sommes partielles\n",
    "\n",
    "Par ailleurs, la suite $S_N$ des polynômes trigonométriques de meilleure approximation dans $\\mathbb{T}_N$ converge vers $f$ dans $\\mathcal{L}_{\\rm per}^2(0,T)$ :\n",
    "\\begin{equation}\n",
    "\\lim_{N\\to\\infty} \\|f-S_N\\|_2 = 0.  \n",
    "\\end{equation}\n",
    "Cela veut dire que la série $\\sum_{n\\in\\mathbb{Z}} c_n(f)\\exp(2i\\pi n t/T)$ converge normalement et donc presque partout vers $f$.\n",
    "\n",
    "#### Égalité de Parseval\n",
    "\n",
    "Soit $f\\in\\mathcal{L}_{\\rm per}^2(0,T)$, alors \n",
    "\\begin{equation}\n",
    "\\sum_{n=-\\infty}^\\infty |c_n|^2 = \\frac1T \\int_0^T |f(t)|^2 dt.\n",
    "\\end{equation}"
   ]
  },
  {
   "cell_type": "markdown",
   "metadata": {},
   "source": [
    "**<font color = blue>Question :</font>** \n",
    "Illustrer graphiquement l'inégalité de Bessel et l'égalité de Parseval sur l'exemple de la fonction créneau. "
   ]
  },
  {
   "cell_type": "code",
   "execution_count": null,
   "metadata": {},
   "outputs": [
    {
     "data": {
      "image/png": "[encoded data removed]",
      "text/plain": [
       "<Figure size 432x288 with 1 Axes>"
      ]
     },
     "metadata": {
      "needs_background": "light"
     },
     "output_type": "display_data"
    }
   ],
   "source": [
    "def sum_mod_cn_fonction_créneau(n):\n",
    "    \"\"\"Retourne la somme des modules de cn(f) de notre fonction créneau\"\"\"\n",
    "    sum = 0\n",
    "    for _ in range(-n, n+1):\n",
    "        sum += module_cn_fonction_créneau(_)**2\n",
    "    return sum\n",
    "\n",
    "\n",
    "# res = (aA**2) / T\n",
    "res = 0.4*1.5**2/2\n",
    "\n",
    "# Note : on a choisit ici n = 30 pour une visibilité de la convergence plus évidente qu'avec n = 10\n",
    "n = 30\n",
    "N = [_ for _ in range(n)]\n",
    "sum_mod_cn_list = [sum_mod_cn_fonction_créneau(_) for _ in range(n)]\n",
    "res_list = [res for _ in range(n)]\n",
    "plt.plot(N, sum_mod_cn_list, 'r', label=\"somme_module cn²(f)\")\n",
    "plt.plot(N, res_list, 'b', label=\"valeur moyenne de |f|²\")\n",
    "plt.title(\"Illustration de l'inégalité de Bessel et de l'égalité de Parseval\")\n",
    "plt.legend()\n",
    "plt.show()\n"
   ]
  },
  {
   "cell_type": "markdown",
   "metadata": {},
   "source": [
    "On observe bien la convergence \"par le dessous\" des modules de la somme partielle des coefficients de fourier au carré vers la valeur moyenne du module au carré de la fonction étudiée.  \n",
    "  \n",
    "(Note : on a choisit ici n = 30 pour une visibilité de la convergence plus évidente qu'avec n = 10)"
   ]
  },
  {
   "cell_type": "markdown",
   "metadata": {},
   "source": [
    "5. En utilisant ces mêmes fonctions, définir la matrice tridiagonale d'ordre $10$ suivante :\n",
    "\\begin{equation}\n",
    "      C = \\begin{pmatrix}\n",
    "          2 & -1& & \\mathbf{0} \\\\\n",
    "          1 & 2 & \\ddots & \\\\\n",
    "          & \\ddots & \\ddots & -1 \\\\\n",
    "          \\mathbf{0}& & 1 & 2 \\\\\n",
    "        \\end{pmatrix}\n",
    "\\end{equation}"
   ]
  },
  {
   "cell_type": "markdown",
   "metadata": {},
   "source": [
    "#### Théorème de Dirichlet\n",
    "\n",
    "Soit $f\\in\\mathcal{L}_{\\rm per}^1(0,T)$ et $t_0$ tel que $f$ admette des limites à droite et à gauche en $t_0$, respectivement notées $f(t_0^+)$ et $f(t_0^-)$, alors \n",
    "\\begin{equation}\n",
    "\\lim_{N\\to\\infty} \\sum_{n=-N}^N c_n(f)\\exp\\left(2i\\pi n \\dfrac {t_0}T\\right) = \\dfrac{f(t_0^+)+f(t_0^-)}2. \n",
    "\\end{equation}"
   ]
  },
  {
   "cell_type": "markdown",
   "metadata": {},
   "source": [
    "**<font color = blue>Question :</font>**  \n",
    "Toujours avec $N=10$ et $J=100$, tracer sur un même graphique la fonction créneau et sa somme de Fourier partielle de degré $N$."
   ]
  },
  {
   "cell_type": "code",
   "execution_count": null,
   "metadata": {},
   "outputs": [
    {
     "data": {
      "image/png": "[encoded data removed]",
      "text/plain": [
       "<Figure size 432x288 with 1 Axes>"
      ]
     },
     "metadata": {
      "needs_background": "light"
     },
     "output_type": "display_data"
    }
   ],
   "source": [
    "def dirichlet_limite(a, A, t, T, N):\n",
    "    \"\"\"Retourne le polynome trigonométrique d'ordre N de notre fonction créneau\"\"\"\n",
    "    sum = 0\n",
    "    iterable_n = [_ for _ in range(-N, N+1)]\n",
    "    for coeff, n in zip(coeff_fourier_2(a, A, T, N), iterable_n):\n",
    "        sum += coeff * (cos(2*pi*n*t/T) + 1j*sin(2*pi*n*t/T))\n",
    "    return sum\n",
    "\n",
    "\n",
    "N = 10\n",
    "J = 100\n",
    "a = 0.4\n",
    "T = 2\n",
    "A = 1.5\n",
    "x1 = np.linspace(-2, 2, J)\n",
    "y = []\n",
    "for t in x1:\n",
    "    y.append(f(t, a, T, A))\n",
    "y2 = [dirichlet_limite(a, A, t, T, N) for t in x1]\n",
    "plt.plot(x1, y, 'r', label =\"fonction créneau\")\n",
    "plt.plot(x1, y2, 'b', label =\"approximation via polynome trigonométrique\")\n",
    "plt.axis([-2.2, 2.2, -1, 1.8])\n",
    "plt.xlabel(\"x\")\n",
    "plt.ylabel(\"f(x)\")\n",
    "plt.title(\"Représentation graphique du théorème de Dirichlet\")\n",
    "plt.legend(loc=8)\n",
    "plt.show()\n"
   ]
  },
  {
   "cell_type": "markdown",
   "metadata": {},
   "source": [
    "On remarque la convergence attendue d'après le théorème de Dirichlet.  \n",
    "  \n",
    "Avec N=10, le polynôme obtenu s'approche bien de la courbe de notre fonction créneau, mais n'est pourtant pas assez juste pour avoir une superposition parfaite des deux courbes.  \n",
    "  \n",
    "En faisant augmenter N on observe cependant bien la convergence qui se dessine progressivement.  \n",
    "  \n",
    "En augmentant la fréquence d'échantillonage de notre fonction créneau (= en augmentant J) et en augmentant N (e.g.: N = 100) : on peut mieux apprécier l'augmentation des oscillations à l'approche des discontinuités (phénomène de Gibbs)."
   ]
  },
  {
   "cell_type": "markdown",
   "metadata": {},
   "source": [
    "## 4. Calcul de sommes de séries"
   ]
  },
  {
   "cell_type": "markdown",
   "metadata": {},
   "source": [
    "On considère maintenant la fonction $g$, $2\\pi$ périodique, donnée par $g(x)=x^2$ sur l'intervalle $[-\\pi,\\pi]$."
   ]
  },
  {
   "cell_type": "markdown",
   "metadata": {},
   "source": [
    "**<font color = blue>Question :</font>**  \n",
    "Calculer les coefficients de Fourier $c_n(g)$. "
   ]
  },
  {
   "cell_type": "markdown",
   "metadata": {},
   "source": [
    "On a, pour $n = 0$ :  \n",
    "  \n",
    "$c_0 = \\frac{1}{2*\\pi} * \\int_{-\\pi}^{\\pi} t² dt$  \n",
    "$c_0 = \\frac{\\pi²}{3}$\n",
    "\n",
    "Sinon :  \n",
    "  \n",
    "$c_n = \\frac{1}{2*\\pi} * \\int_{-\\pi}^{\\pi} t² \\cdot e^{-int} dt$  \n",
    "  \n",
    "Par intégration par partie on obtient :  \n",
    "  \n",
    "$c_n =  \\frac {2 (-1)^n}{n²}$  \n",
    "  \n",
    "On en déduit :  \n",
    "  \n",
    "- $a_n = c_n + c_{-n}$  \n",
    "- $b_n = i \\cdot \\left(c_n - c_{-n} \\right)$  \n",
    "\n",
    "Par parité de $c_n$ :  \n",
    "  \n",
    "- $a_n = 2c_n = \\frac {4 (-1)^n}{n²}$  \n",
    "- $b_n = 0$  "
   ]
  },
  {
   "cell_type": "markdown",
   "metadata": {},
   "source": [
    "**<font color = blue>Question :</font>**  \n",
    "En utilisant les théorèmes de la question 3.4, expliquer comment calculer à l'aide de ces coefficients de Fourier les sommes des séries\n",
    "* $\\sum\\limits_{n=1}^{+\\infty} \\dfrac1{n^2}$,\n",
    "* $\\sum\\limits_{n=1}^{+\\infty} \\dfrac{(-1)^{n+1}}{n^2}$,\n",
    "* $\\sum\\limits_{n=1}^{+\\infty} \\dfrac1{n^4}$."
   ]
  },
  {
   "cell_type": "markdown",
   "metadata": {},
   "source": [
    "- En évaluant g en $\\pi$, on a :  \n",
    "  \n",
    "$$\\sum_{n=1}^{+\\infty} \\frac{1}{n²} = \\frac {g(\\pi) - c_0(g)}{4}$$\n",
    "$$\\sum_{n=1}^{+\\infty} \\frac{1}{n²} = \\frac {\\pi² - \\frac {\\pi²}{3}}{4} = \\frac {\\pi²}{6}$$\n",
    "  \n",
    "- En évaluant g en 0, puis en multipliant l'égalité par -1, on obtient :  \n",
    "  \n",
    "$$\\sum_{n=1}^{+\\infty} \\frac{(-1)^{n+1}}{n²} = \\frac{-g(0) + c_0(g)}{4}$$\n",
    "$$\\sum_{n=1}^{+\\infty} \\frac{(-1)^{n+1}}{n²} = \\frac {\\frac {\\pi²}{3}}{4} = \\frac {\\pi²}{12}$$\n",
    "  \n",
    "- En utilisant l'égalité de Parseval, on obtient :  \n",
    "  \n",
    "$$\\sum_{n = - \\infty}^{\\infty}|c_n|² = \\frac{1}{2 \\pi} \\cdot \\int_0^{2 \\pi} x⁴ dt$$\n",
    "$$\\sum_{n = - \\infty}^{\\infty}|c_n|² = \\frac{1}{2 \\pi} \\cdot \\int_{-\\pi}^{\\pi} x⁴ dt$$\n",
    "$$\\sum_{n = - \\infty}^{\\infty}|c_n|² = \\frac{1}{2 \\pi} \\cdot [\\frac{x⁵}{5}]_{-\\pi}^{\\pi}$$\n",
    "$$\\sum_{n = - \\infty}^{\\infty}|c_n|² = \\frac{1}{2 \\pi} \\cdot \\frac{2\\pi⁵}{5}$$\n",
    "$$\\sum_{n = - \\infty}^{\\infty}|c_n|² = \\frac{\\pi⁴}{5}$$\n",
    "  \n",
    "Et :  \n",
    "  \n",
    "$$\\sum_{n = 1}^{\\infty}|c_n|² = \\frac {\\frac{\\pi⁴}{5} - \\frac{\\pi⁴}{9}}{8}$$\n",
    "$$\\sum_{n = 1}^{\\infty}|c_n|² = \\frac{\\pi⁴}{90}$$"
   ]
  },
  {
   "cell_type": "markdown",
   "metadata": {},
   "source": [
    "**<font color = blue>Question :</font>**  \n",
    "Calculer numériquement ces sommes en utilisant `discreteFourier` et `invFourier`. Discuter la qualité de l'approximation."
   ]
  },
  {
   "cell_type": "code",
   "execution_count": 11,
   "metadata": {},
   "outputs": [
    {
     "data": {
      "image/png": "[encoded data removed]",
      "text/plain": [
       "<Figure size 640x480 with 1 Axes>"
      ]
     },
     "metadata": {},
     "output_type": "display_data"
    }
   ],
   "source": [
    "def x_carré(x):\n",
    "    return (x%pi+int(((x//pi)%2)==1 or abs(x//pi)==1)*pi)**2\n",
    "\n",
    "\n",
    "\n",
    "x_carree_list = np.linspace(0, 2*pi, 100)\n"
   ]
  },
  {
   "cell_type": "markdown",
   "metadata": {},
   "source": []
  },
  {
   "cell_type": "markdown",
   "metadata": {},
   "source": [
    "<font color = red>Votre commentaire ici</font>"
   ]
  }
 ],
 "metadata": {
  "kernelspec": {
   "display_name": "Python 3 (ipykernel)",
   "language": "python",
   "name": "python3"
  },
  "language_info": {
   "codemirror_mode": {
    "name": "ipython",
    "version": 3
   },
   "file_extension": ".py",
   "mimetype": "text/x-python",
   "name": "python",
   "nbconvert_exporter": "python",
   "pygments_lexer": "ipython3",
   "version": "3.10.6"
  },
  "vscode": {
   "interpreter": {
    "hash": "916dbcbb3f70747c44a77c7bcd40155683ae19c65e1c03b4aa3499c5328201f1"
   }
  }
 },
 "nbformat": 4,
 "nbformat_minor": 4
}
